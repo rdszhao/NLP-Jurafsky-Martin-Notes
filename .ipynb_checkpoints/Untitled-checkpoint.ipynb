{
 "cells": [
  {
   "cell_type": "markdown",
   "metadata": {},
   "source": [
    "# Regular Expressions, Text Normalization, and Edit Distance"
   ]
  },
  {
   "cell_type": "markdown",
   "metadata": {},
   "source": [
    "## Regular Expressions"
   ]
  },
  {
   "cell_type": "markdown",
   "metadata": {},
   "source": [
    "### The Basics"
   ]
  },
  {
   "cell_type": "markdown",
   "metadata": {},
   "source": [
    "Formally, a __regular expression__ is algebraic notation for characterizing sets of strings. A _pattern_ searches through a _corpus_ of texts. The unix tool `grep` takes a regex and returns every line of the corpus that matches the expression.  "
   ]
  },
  {
   "cell_type": "markdown",
   "metadata": {},
   "source": [
    "Regex is __case sensitive__. To use a _disjunction_ of expressions, use `[a b]` to combine multiple conditions. The dash (`-`) can be used to specify a range. The caret `^` is used to express _negation_. The question mark `?` is used to denote zero or one instances, and the __Kleene__ `*` is used to express zero or more. The __Kleene__ `+` is then used to express one or more. The __wildcard__ expression `.` matche _any_ character except a carriage return. `.` and `+` are often used in conjunction."
   ]
  },
  {
   "cell_type": "markdown",
   "metadata": {},
   "source": [
    "__Anchors__ signify particular places in a string. `^` matches the start of a line when outisde of brackets and `$` the end. Additionally, `\\b` matches a word boundary and `\\B` matches a non boundary."
   ]
  },
  {
   "cell_type": "markdown",
   "metadata": {},
   "source": [
    "The __disjunction__ operator `|` signifies \"either / or.\" Parenthese can be used to signify _precedence_ in operators. The pattern `/gupp(y|ies)` would first match for suffix disjunction and then the larger word. Operators that match _as much_ as possible are __greedy__, while those that match as little as possible are __non-greedy__."
   ]
  },
  {
   "cell_type": "markdown",
   "metadata": {},
   "source": [
    "The two main types of erros are __false positives__ and __false negatives__. Reducing overall error rate thus involves two antagonistic efforts: increasing __precision__ by minimizing false positives and increasing __recall__ by reducing false negatives."
   ]
  },
  {
   "cell_type": "markdown",
   "metadata": {},
   "source": [
    "### Substitution, Capture, and Lookahead"
   ]
  },
  {
   "cell_type": "markdown",
   "metadata": {},
   "source": [
    "__Substitutions__ are commonly implemented in the form of `s/regex/pattern/`. To make this easier, the __number__ operator `\\` is used as back-reference, such as in the form of `s/([0-9]+)/<\\1>`. This use of parentheses to store a pattern in memory is a __capture group__, where the resulting match is stored in a numbered __register__. "
   ]
  },
  {
   "cell_type": "markdown",
   "metadata": {},
   "source": [
    "The __lookahead__ assertion makes use of the operator `(?= pattern)` but is _zero-wdith_, which means the match pointer doesn't advance. Negative lookahead is commonly used when parsing a complex pattern and trying to rule out some special case. For example: to match any single word that doesn't start with \"Volcano\": `/^(?!Volcano)[a-zA-z]+/`"
   ]
  },
  {
   "cell_type": "markdown",
   "metadata": {},
   "source": [
    "## Words"
   ]
  },
  {
   "cell_type": "markdown",
   "metadata": {},
   "source": [
    "An __utterance__ is the spoken correlate of a sentence:"
   ]
  },
  {
   "cell_type": "markdown",
   "metadata": {},
   "source": [
    "> I do uh main- mainly business data processing"
   ]
  },
  {
   "cell_type": "markdown",
   "metadata": {},
   "source": [
    "This utterance has two kinds of __disfluencies__: the broken-off word _main_ is a __fragment__, and words like _uh_ and _uhm_ are __fillers__ / __filled pauses__. Disfluencies should be kept or discarded depending on the purpose. They may be discarded in transcription or kept in recognition, since they might signal the restart of a clause or idea."
   ]
  },
  {
   "cell_type": "markdown",
   "metadata": {},
   "source": [
    "A __lemma__ is a set of lexical forms with the same stem, major part-of-speech, and word sense. Inflected forms like _cats_ and _cat?_ share _cat_ as their lemma. The __word-form__ is the full inflected, or derived form of the word. "
   ]
  }
 ],
 "metadata": {
  "kernelspec": {
   "display_name": "Python 3",
   "language": "python",
   "name": "python3"
  },
  "language_info": {
   "codemirror_mode": {
    "name": "ipython",
    "version": 3
   },
   "file_extension": ".py",
   "mimetype": "text/x-python",
   "name": "python",
   "nbconvert_exporter": "python",
   "pygments_lexer": "ipython3",
   "version": "3.6.9"
  }
 },
 "nbformat": 4,
 "nbformat_minor": 4
}
